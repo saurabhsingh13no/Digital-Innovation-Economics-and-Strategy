{
 "cells": [
  {
   "cell_type": "code",
   "execution_count": 5,
   "metadata": {},
   "outputs": [],
   "source": [
    "from zeep import Client"
   ]
  },
  {
   "cell_type": "code",
   "execution_count": 14,
   "metadata": {},
   "outputs": [],
   "source": [
    "# client = Client('http://search.webofknowledge.com/esti/wokmws/ws/WokSearch?wsdl')\n"
   ]
  },
  {
   "cell_type": "code",
   "execution_count": 29,
   "metadata": {},
   "outputs": [
    {
     "data": {
      "text/plain": [
       "91.134"
      ]
     },
     "execution_count": 29,
     "metadata": {},
     "output_type": "execute_result"
    }
   ],
   "source": [
    "client = Client('http://www.webservicex.net/ConvertSpeed.asmx?WSDL')\n",
    "result = client.service.ConvertSpeed(\n",
    "    100,'kilometersPerhour','feetPersecond')\n",
    "# result = client.service.ConvertSpeed()\n",
    "result"
   ]
  },
  {
   "cell_type": "code",
   "execution_count": 100,
   "metadata": {},
   "outputs": [
    {
     "ename": "SyntaxError",
     "evalue": "invalid syntax (<ipython-input-100-54ddf7b9e159>, line 5)",
     "output_type": "error",
     "traceback": [
      "\u001b[0;36m  File \u001b[0;32m\"<ipython-input-100-54ddf7b9e159>\"\u001b[0;36m, line \u001b[0;32m5\u001b[0m\n\u001b[0;31m    result=client.service.search('saurabh','databaseId':['citedAuthor'])\u001b[0m\n\u001b[0m                                                       ^\u001b[0m\n\u001b[0;31mSyntaxError\u001b[0m\u001b[0;31m:\u001b[0m invalid syntax\n"
     ]
    }
   ],
   "source": [
    "# client1=Client('http://search.webofknowledge.com/esti/wokmws/ws/WOKMWSAuthenticate?wsdl')\n",
    "# response=client1.service.authenticate()\n",
    "print (\"Authentication : \",response)\n",
    "client=Client('http://search.webofknowledge.com/esti/wokmws/ws/WokSearch?wsdl')\n",
    "result=client.service.search('saurabh','databaseId':['citedAuthor'])\n",
    "# client.create_message(client.service,'search',user='singh.saurab')"
   ]
  }
 ],
 "metadata": {
  "kernelspec": {
   "display_name": "Python 3",
   "language": "python",
   "name": "python3"
  },
  "language_info": {
   "codemirror_mode": {
    "name": "ipython",
    "version": 3
   },
   "file_extension": ".py",
   "mimetype": "text/x-python",
   "name": "python",
   "nbconvert_exporter": "python",
   "pygments_lexer": "ipython3",
   "version": "3.5.3"
  }
 },
 "nbformat": 4,
 "nbformat_minor": 2
}
